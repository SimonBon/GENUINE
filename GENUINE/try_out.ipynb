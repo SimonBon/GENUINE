{
 "cells": [
  {
   "cell_type": "code",
   "execution_count": 1,
   "metadata": {},
   "outputs": [
    {
     "name": "stdout",
     "output_type": "stream",
     "text": [
      "Found existing Baseline.model in /home/simon_g/.GENUINE\n",
      "Found existing GENUINE_B.model in /home/simon_g/.GENUINE\n",
      "Found existing GENUINE_E.model in /home/simon_g/.GENUINE\n",
      "Found existing GENUINE.model in /home/simon_g/.GENUINE\n",
      "Found existing RetinaNet.model in /home/simon_g/.GENUINE\n",
      "Found existing TEST_DATASET_SMALL.h5 in /home/simon_g/.GENUINE\n"
     ]
    },
    {
     "data": {
      "text/plain": [
       "['/home/simon_g/.GENUINE/RetinaNet.model',\n",
       " '/home/simon_g/.GENUINE/GENUINE.model',\n",
       " '/home/simon_g/.GENUINE/GENUINE_B.model',\n",
       " '/home/simon_g/.GENUINE/Baseline.model',\n",
       " '/home/simon_g/.GENUINE/GENUINE_E.model']"
      ]
     },
     "execution_count": 1,
     "metadata": {},
     "output_type": "execute_result"
    }
   ],
   "source": [
    "import sys\n",
    "sys.path.append(\"..\")\n",
    "\n",
    "import os\n",
    "cwd = os.getcwd()\n",
    "\n",
    "import torch\n",
    "import numpy as np\n",
    "import glob\n",
    "\n",
    "from GENUINE.data.datasets import PatchDataset\n",
    "from torch.utils.data import DataLoader\n",
    "from GENUINE.utils.device import best_gpu\n",
    "from GENUINE.utils.visualize import gridPlot\n",
    "from GENUINE.data.custom_transforms import ToTensor\n",
    "from GENUINE.utils.get_data import _zenodo_get\n",
    "\n",
    "_zenodo_get(\"10.5072/zenodo.1171221\", sandbox=True)\n",
    "\n",
    "DATA_PATH = os.path.join(os.path.expanduser('~'), \".GENUINE\")\n",
    "DATASET = glob.glob(os.path.join(DATA_PATH, \"*.h5\"))[0]\n",
    "MODELS = glob.glob(os.path.join(DATA_PATH, \"*.model\"))"
   ]
  },
  {
   "cell_type": "code",
   "execution_count": null,
   "metadata": {},
   "outputs": [],
   "source": [
    "ds = PatchDataset(DATASET, dataset=\"TEST\", transform=[ToTensor()], n=10)\n",
    "dl = DataLoader(ds, batch_size=8)\n",
    "\n",
    "device = best_gpu(verbose=False)\n",
    "\n",
    "for m in MODELS:\n",
    "    \n",
    "    if \"RetinaNet\" in m:\n",
    "        continue\n",
    "    \n",
    "    model = torch.load(m, map_location=\"cpu\")\n",
    "    model.eval()\n",
    "    \n",
    "    print(model.__class__)\n",
    "    \n",
    "    model.to(device)\n",
    "    \n",
    "    preds, patches, targets = [], [], []\n",
    "    for X, y in dl:\n",
    "        \n",
    "        preds.extend((model(X.to(device)) > 0).int().squeeze().tolist())\n",
    "        patches.append(X.numpy().transpose(0, 2, 3, 1))\n",
    "        targets.extend(y.tolist())\n",
    "        \n",
    "    gridPlot(np.vstack(patches), labels=preds, targets=targets, sz=(3,3))"
   ]
  },
  {
   "cell_type": "code",
   "execution_count": null,
   "metadata": {},
   "outputs": [],
   "source": []
  },
  {
   "cell_type": "code",
   "execution_count": null,
   "metadata": {},
   "outputs": [],
   "source": []
  },
  {
   "cell_type": "code",
   "execution_count": null,
   "metadata": {},
   "outputs": [],
   "source": []
  },
  {
   "cell_type": "code",
   "execution_count": null,
   "metadata": {},
   "outputs": [],
   "source": []
  },
  {
   "cell_type": "code",
   "execution_count": null,
   "metadata": {},
   "outputs": [],
   "source": []
  },
  {
   "cell_type": "code",
   "execution_count": null,
   "metadata": {},
   "outputs": [],
   "source": []
  },
  {
   "cell_type": "code",
   "execution_count": null,
   "metadata": {},
   "outputs": [],
   "source": []
  }
 ],
 "metadata": {
  "kernelspec": {
   "display_name": "BB",
   "language": "python",
   "name": "python3"
  },
  "language_info": {
   "codemirror_mode": {
    "name": "ipython",
    "version": 3
   },
   "file_extension": ".py",
   "mimetype": "text/x-python",
   "name": "python",
   "nbconvert_exporter": "python",
   "pygments_lexer": "ipython3",
   "version": "3.9.12"
  },
  "orig_nbformat": 4
 },
 "nbformat": 4,
 "nbformat_minor": 2
}
